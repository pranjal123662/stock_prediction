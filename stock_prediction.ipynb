{
 "cells": [
  {
   "cell_type": "code",
   "execution_count": 87,
   "metadata": {},
   "outputs": [],
   "source": [
    "import quandl\n",
    "import numpy as np\n",
    "from sklearn.svm import SVR\n",
    "from sklearn.linear_model import LinearRegression\n",
    "from sklearn.model_selection import train_test_split"
   ]
  },
  {
   "cell_type": "code",
   "execution_count": 88,
   "metadata": {},
   "outputs": [
    {
     "name": "stdout",
     "output_type": "stream",
     "text": [
      "             Open   High    Low  Close     Volume  Ex-Dividend  Split Ratio  \\\n",
      "Date                                                                          \n",
      "1997-05-16  22.38  23.75  20.50  20.75  1225000.0          0.0          1.0   \n",
      "1997-05-19  20.50  21.25  19.50  20.50   508900.0          0.0          1.0   \n",
      "1997-05-20  20.75  21.00  19.63  19.63   455600.0          0.0          1.0   \n",
      "1997-05-21  19.25  19.75  16.50  17.13  1571100.0          0.0          1.0   \n",
      "1997-05-22  17.25  17.38  15.75  16.75   981400.0          0.0          1.0   \n",
      "\n",
      "            Adj. Open  Adj. High  Adj. Low  Adj. Close  Adj. Volume  \n",
      "Date                                                                 \n",
      "1997-05-16   1.865000   1.979167  1.708333    1.729167   14700000.0  \n",
      "1997-05-19   1.708333   1.770833  1.625000    1.708333    6106800.0  \n",
      "1997-05-20   1.729167   1.750000  1.635833    1.635833    5467200.0  \n",
      "1997-05-21   1.604167   1.645833  1.375000    1.427500   18853200.0  \n",
      "1997-05-22   1.437500   1.448333  1.312500    1.395833   11776800.0  \n"
     ]
    }
   ],
   "source": [
    "quandl.ApiConfig.api_key = \"m63rvKzGC4w1sG6CYRDJ\"\n",
    "df = quandl.get(\"WIKI/AMZN\")\n",
    "print(df.head())"
   ]
  },
  {
   "cell_type": "markdown",
   "metadata": {},
   "source": [
    "GET THE ADJUSTED CLOSE PRICE"
   ]
  },
  {
   "cell_type": "code",
   "execution_count": 89,
   "metadata": {},
   "outputs": [
    {
     "name": "stdout",
     "output_type": "stream",
     "text": [
      "            Adj. Close\n",
      "Date                  \n",
      "1997-05-16    1.729167\n",
      "1997-05-19    1.708333\n",
      "1997-05-20    1.635833\n",
      "1997-05-21    1.427500\n",
      "1997-05-22    1.395833\n"
     ]
    }
   ],
   "source": [
    "df=df[['Adj. Close']]\n",
    "print(df.head())"
   ]
  },
  {
   "cell_type": "code",
   "execution_count": 90,
   "metadata": {},
   "outputs": [
    {
     "name": "stdout",
     "output_type": "stream",
     "text": [
      "            Adj. Close  Prediction\n",
      "Date                              \n",
      "2018-03-21     1581.86         NaN\n",
      "2018-03-22     1544.10         NaN\n",
      "2018-03-23     1495.56         NaN\n",
      "2018-03-26     1555.86         NaN\n",
      "2018-03-27     1497.05         NaN\n"
     ]
    },
    {
     "data": {
      "text/plain": [
       "<matplotlib.axes._subplots.AxesSubplot at 0x1b6381ddb08>"
      ]
     },
     "execution_count": 90,
     "metadata": {},
     "output_type": "execute_result"
    },
    {
     "data": {
      "image/png": "[encoded data removed]",
      "text/plain": [
       "<Figure size 432x288 with 1 Axes>"
      ]
     },
     "metadata": {
      "needs_background": "light"
     },
     "output_type": "display_data"
    }
   ],
   "source": [
    "# A variable for predicting 'n' days out into the future\n",
    "forecast_out=30\n",
    "#create another column (the target or dependent variable) shifted 'n' units up\n",
    "df['Prediction'] = df[['Adj. Close']].shift(-forecast_out)\n",
    "#print the new data set\n",
    "print(df.tail())\n",
    "df.plot()"
   ]
  },
  {
   "cell_type": "markdown",
   "metadata": {},
   "source": [
    "CREATE THE INDEPENDENT DATASET X"
   ]
  },
  {
   "cell_type": "code",
   "execution_count": 91,
   "metadata": {},
   "outputs": [
    {
     "name": "stdout",
     "output_type": "stream",
     "text": [
      "[[   1.72916667]\n",
      " [   1.70833333]\n",
      " [   1.63583333]\n",
      " ...\n",
      " [1350.47      ]\n",
      " [1338.99      ]\n",
      " [1386.23      ]]\n"
     ]
    }
   ],
   "source": [
    "X=np.array(df.drop(['Prediction'],1))\n",
    "#remove the last n rows\n",
    "X=X[:-forecast_out]\n",
    "print(X)"
   ]
  },
  {
   "cell_type": "markdown",
   "metadata": {},
   "source": [
    "CREATE THE DEPENDENT DATA SET Y"
   ]
  },
  {
   "cell_type": "code",
   "execution_count": 92,
   "metadata": {},
   "outputs": [
    {
     "name": "stdout",
     "output_type": "stream",
     "text": [
      "[1.54166667e+00 1.51583333e+00 1.58833333e+00 ... 1.49556000e+03\n",
      " 1.55586000e+03 1.49705000e+03]\n"
     ]
    }
   ],
   "source": [
    "y=np.array(df['Prediction'])\n",
    "#get all of the values except last n rows\n",
    "y=y[:-forecast_out]\n",
    "print(y)"
   ]
  },
  {
   "cell_type": "markdown",
   "metadata": {},
   "source": [
    "SPLIT THE DATA"
   ]
  },
  {
   "cell_type": "code",
   "execution_count": 93,
   "metadata": {},
   "outputs": [],
   "source": [
    "x_train,x_test,y_train,y_test=train_test_split(X,y,test_size=0.2)"
   ]
  },
  {
   "cell_type": "markdown",
   "metadata": {},
   "source": [
    "CREATE THE SUPPORT VECTOR MACHINE"
   ]
  },
  {
   "cell_type": "code",
   "execution_count": 94,
   "metadata": {},
   "outputs": [
    {
     "data": {
      "text/plain": [
       "SVR(C=1000.0, cache_size=200, coef0=0.0, degree=3, epsilon=0.1, gamma=0.1,\n",
       "    kernel='rbf', max_iter=-1, shrinking=True, tol=0.001, verbose=False)"
      ]
     },
     "execution_count": 94,
     "metadata": {},
     "output_type": "execute_result"
    }
   ],
   "source": [
    "svr_rbf=SVR(kernel='rbf',C=1e3,gamma=0.1)\n",
    "svr_rbf.fit(x_train,y_train)"
   ]
  },
  {
   "cell_type": "markdown",
   "metadata": {},
   "source": [
    "TESTING MODEL"
   ]
  },
  {
   "cell_type": "code",
   "execution_count": 95,
   "metadata": {},
   "outputs": [
    {
     "name": "stdout",
     "output_type": "stream",
     "text": [
      "svm_confidence 0.949958863503793\n"
     ]
    }
   ],
   "source": [
    "svm_confidence=svr_rbf.score(x_test,y_test)\n",
    "print(\"svm_confidence\",svm_confidence)"
   ]
  },
  {
   "cell_type": "markdown",
   "metadata": {},
   "source": [
    "CREATE AND TRAIN THE LINEAR REGRESSION MODEL"
   ]
  },
  {
   "cell_type": "code",
   "execution_count": 96,
   "metadata": {},
   "outputs": [
    {
     "data": {
      "text/plain": [
       "LinearRegression(copy_X=True, fit_intercept=True, n_jobs=None, normalize=False)"
      ]
     },
     "execution_count": 96,
     "metadata": {},
     "output_type": "execute_result"
    }
   ],
   "source": [
    "lr=LinearRegression()\n",
    "lr.fit(x_train,y_train)"
   ]
  },
  {
   "cell_type": "markdown",
   "metadata": {},
   "source": [
    "TEST THE MODEL"
   ]
  },
  {
   "cell_type": "code",
   "execution_count": 97,
   "metadata": {},
   "outputs": [
    {
     "name": "stdout",
     "output_type": "stream",
     "text": [
      "lr_confidence 0.9856121677191807\n"
     ]
    }
   ],
   "source": [
    "lr_confidence=lr.score(x_test,y_test)\n",
    "print(\"lr_confidence\",lr_confidence)"
   ]
  },
  {
   "cell_type": "markdown",
   "metadata": {},
   "source": [
    "SET X_FORECAST EQUAL THE LAST 30 ROWS OF THE ORIGINAL DATA SET FROM Adj. Close COLUMN"
   ]
  },
  {
   "cell_type": "code",
   "execution_count": 98,
   "metadata": {},
   "outputs": [
    {
     "name": "stdout",
     "output_type": "stream",
     "text": [
      "[[1414.51]\n",
      " [1451.05]\n",
      " [1461.76]\n",
      " [1448.69]\n",
      " [1468.35]\n",
      " [1482.92]\n",
      " [1484.76]\n",
      " [1500.  ]\n",
      " [1521.95]\n",
      " [1511.98]\n",
      " [1512.45]\n",
      " [1493.45]\n",
      " [1500.25]\n",
      " [1523.61]\n",
      " [1537.64]\n",
      " [1545.  ]\n",
      " [1551.86]\n",
      " [1578.89]\n",
      " [1598.39]\n",
      " [1588.18]\n",
      " [1591.  ]\n",
      " [1582.32]\n",
      " [1571.68]\n",
      " [1544.93]\n",
      " [1586.51]\n",
      " [1581.86]\n",
      " [1544.1 ]\n",
      " [1495.56]\n",
      " [1555.86]\n",
      " [1497.05]]\n"
     ]
    }
   ],
   "source": [
    "x_forecast=np.array(df.drop(['Prediction'],1))[-forecast_out:]\n",
    "print(x_forecast)"
   ]
  },
  {
   "cell_type": "markdown",
   "metadata": {},
   "source": [
    "PRINT LINEAR REGRESSION MODEL PREDICTION FOR NEXT 'n' DAYS"
   ]
  },
  {
   "cell_type": "code",
   "execution_count": 99,
   "metadata": {},
   "outputs": [
    {
     "name": "stdout",
     "output_type": "stream",
     "text": [
      "[1504.1968225  1543.15394047 1554.57240608 1540.63782666 1561.59833403\n",
      " 1577.13213833 1579.09385417 1595.34197891 1618.74396959 1608.11445492\n",
      " 1608.61554538 1588.35869695 1595.60851639 1620.51377845 1635.47186179\n",
      " 1643.31872518 1650.63251361 1679.45054587 1700.24046926 1689.3550786\n",
      " 1692.36162137 1683.10744009 1671.76360497 1643.24409469 1687.57460824\n",
      " 1682.61701113 1642.35919026 1590.60827328 1654.89711328 1592.19683665]\n"
     ]
    }
   ],
   "source": [
    "lr_prediction=lr.predict(x_forecast)\n",
    "print(lr_prediction)"
   ]
  },
  {
   "cell_type": "markdown",
   "metadata": {},
   "source": [
    "PRINT SUPPORT VECTOR MACHINE NODEL FOR NEXT 'n' DAYS"
   ]
  },
  {
   "cell_type": "code",
   "execution_count": 100,
   "metadata": {},
   "outputs": [
    {
     "name": "stdout",
     "output_type": "stream",
     "text": [
      "[1010.96147992 1550.88051184  677.7095272  1081.46288409  677.67662362\n",
      "  677.67662362  677.67662362  677.67662362  677.67662362  677.67662362\n",
      "  677.67662362  677.67662362  677.67662362  677.67662362  677.67662362\n",
      "  677.67662362  677.67662362  677.67662362  677.67662362  677.67662362\n",
      "  677.67662362  677.67662362  677.67662362  677.67662362  677.67662362\n",
      "  677.67662362  677.67662362  677.67662362  677.67662362  677.67662362]\n"
     ]
    }
   ],
   "source": [
    "svm_prediction=svr_rbf.predict(x_forecast)\n",
    "print(svm_prediction)"
   ]
  },
  {
   "cell_type": "code",
   "execution_count": null,
   "metadata": {},
   "outputs": [],
   "source": []
  },
  {
   "cell_type": "code",
   "execution_count": null,
   "metadata": {},
   "outputs": [],
   "source": []
  }
 ],
 "metadata": {
  "kernelspec": {
   "display_name": "Python 3",
   "language": "python",
   "name": "python3"
  },
  "language_info": {
   "codemirror_mode": {
    "name": "ipython",
    "version": 3
   },
   "file_extension": ".py",
   "mimetype": "text/x-python",
   "name": "python",
   "nbconvert_exporter": "python",
   "pygments_lexer": "ipython3",
   "version": "3.7.6"
  }
 },
 "nbformat": 4,
 "nbformat_minor": 4
}
